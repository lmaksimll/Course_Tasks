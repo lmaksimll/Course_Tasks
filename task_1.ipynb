{
 "cells": [
  {
   "cell_type": "code",
   "execution_count": 1,
   "metadata": {},
   "outputs": [],
   "source": [
    "import pyomo.environ as pyomo\n"
   ]
  },
  {
   "cell_type": "code",
   "execution_count": 4,
   "metadata": {},
   "outputs": [
    {
     "name": "stdout",
     "output_type": "stream",
     "text": [
      "\n",
      "Problem: \n",
      "- Name: unknown\n",
      "  Lower bound: -1.0\n",
      "  Upper bound: -1.0\n",
      "  Number of objectives: 1\n",
      "  Number of constraints: 2\n",
      "  Number of variables: 4\n",
      "  Number of nonzeros: 8\n",
      "  Sense: minimize\n",
      "Solver: \n",
      "- Status: ok\n",
      "  Termination condition: optimal\n",
      "  Statistics: \n",
      "    Branch and bound: \n",
      "      Number of bounded subproblems: 0\n",
      "      Number of created subproblems: 0\n",
      "  Error rc: 0\n",
      "  Time: 0.06322050094604492\n",
      "Solution: \n",
      "- number of solutions: 0\n",
      "  number of solutions displayed: 0\n",
      "\n",
      "0.0 0.0 3.0 4.0\n"
     ]
    }
   ],
   "source": [
    "model = pyomo.ConcreteModel()\n",
    "\n",
    "model.x1 = pyomo.Var(domain=pyomo.NonNegativeReals)\n",
    "model.x2 = pyomo.Var(domain=pyomo.NonNegativeReals)\n",
    "model.x3 = pyomo.Var(domain=pyomo.NonNegativeReals)\n",
    "model.x4 = pyomo.Var(domain=pyomo.NonNegativeReals)\n",
    "\n",
    "model.c = pyomo.ConstraintList()\n",
    "model.c.add((3 * model.x1) + (2 * model.x2) + model.x3 + model.x4 == 7)\n",
    "model.c.add((5 * model.x1) + (3 * model.x2) + model.x3 + (2 * model.x4) == 11)\n",
    "\n",
    "model.obj = pyomo.Objective(rule = lambda model: (5 * model.x1) + model.x2 - (3 * model.x3) + (2 * model.x4), sense=pyomo.minimize)\n",
    "\n",
    "solver = pyomo.SolverFactory(\"glpk\")\n",
    "result = solver.solve(model)\n",
    "print(result)\n",
    "print(model.x1(), model.x2(), model.x3(), model.x4())"
   ]
  }
 ],
 "metadata": {
  "kernelspec": {
   "display_name": "SM_env",
   "language": "python",
   "name": "python3"
  },
  "language_info": {
   "codemirror_mode": {
    "name": "ipython",
    "version": 3
   },
   "file_extension": ".py",
   "mimetype": "text/x-python",
   "name": "python",
   "nbconvert_exporter": "python",
   "pygments_lexer": "ipython3",
   "version": "3.10.13"
  }
 },
 "nbformat": 4,
 "nbformat_minor": 2
}
